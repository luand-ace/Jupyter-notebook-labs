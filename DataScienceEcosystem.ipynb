{
 "cells": [
  {
   "cell_type": "markdown",
   "id": "88eca5e6-d299-46f6-ba33-7b2a143e206c",
   "metadata": {},
   "source": [
    "# Data Science Tools and ecosystem"
   ]
  },
  {
   "cell_type": "markdown",
   "id": "c773144a-6fb3-4b32-b810-be8af46b355f",
   "metadata": {},
   "source": [
    "In this notebook, Data Science Tools and Ecosystem are summarized."
   ]
  },
  {
   "cell_type": "markdown",
   "id": "f842acf6-7b3e-4ce1-ade7-e9a05e23ca64",
   "metadata": {},
   "source": [
    "Some of the popular languages that Data Scientists use are:\n",
    "1. Python\n",
    "2. R\n",
    "3. SQL\n",
    "\n"
   ]
  },
  {
   "cell_type": "markdown",
   "id": "c2478b38-f769-44d3-837b-4e47541d4f12",
   "metadata": {},
   "source": [
    "Some of the commonly used libraries used by Data Scientists include:\n",
    "1. Pandas\n",
    "2. NumPy\n",
    "3. Matplotlib\n"
   ]
  },
  {
   "cell_type": "markdown",
   "id": "53333705-e858-4b07-92c1-bcbe4101541f",
   "metadata": {},
   "source": [
    "| Data Science Tools |\n",
    "|--------------------|\n",
    "| Jupyter Notebook   |\n",
    "| RStudio            |\n",
    "| Apache Spark |\n",
    "| VS Code  |\n",
    "| JupyterLite |"
   ]
  },
  {
   "cell_type": "markdown",
   "id": "cafb35a8-6073-497f-b8a4-153ae293bf0c",
   "metadata": {},
   "source": [
    "### Below are a few examples of evaluating arithmetic expressions in Python"
   ]
  },
  {
   "cell_type": "code",
   "execution_count": 4,
   "id": "f4091e1e-f055-49fa-a3aa-3b905ad7f328",
   "metadata": {},
   "outputs": [
    {
     "data": {
      "text/plain": [
       "17"
      ]
     },
     "execution_count": 4,
     "metadata": {},
     "output_type": "execute_result"
    }
   ],
   "source": [
    "# This a simple arithmetic expression to multiply then add integers\n",
    "(3*4) + 5"
   ]
  },
  {
   "cell_type": "code",
   "execution_count": 5,
   "id": "c83b6c96-46ae-4c8f-9613-d35c8a61ffa6",
   "metadata": {},
   "outputs": [
    {
     "data": {
      "text/plain": [
       "3.3333333333333335"
      ]
     },
     "execution_count": 5,
     "metadata": {},
     "output_type": "execute_result"
    }
   ],
   "source": [
    "# This will convert 200 minutes to hours by dividing by 60\n",
    "200/60"
   ]
  },
  {
   "cell_type": "markdown",
   "id": "1d0bdcf5-5600-473f-addd-9790ba4131a8",
   "metadata": {},
   "source": [
    "**Objectives:**\n",
    "- List popular languages for Data Science\n",
    "- List commonly used libraries\n",
    "- Create tables in markdown\n",
    "- Perform arithmetic operations\n",
    "- Share Jupyter notebooks on GitHub"
   ]
  },
  {
   "cell_type": "markdown",
   "id": "9ef7e2f6-82f3-472f-b5a8-35ea60a573a5",
   "metadata": {},
   "source": [
    "## Author\n",
    "***Luis Quiros***\n",
    "\n"
   ]
  },
  {
   "cell_type": "code",
   "execution_count": null,
   "id": "632686eb-7645-4d4a-ba57-7208ad8971c8",
   "metadata": {},
   "outputs": [],
   "source": []
  }
 ],
 "metadata": {
  "kernelspec": {
   "display_name": "Python 3 (ipykernel)",
   "language": "python",
   "name": "python3"
  },
  "language_info": {
   "codemirror_mode": {
    "name": "ipython",
    "version": 3
   },
   "file_extension": ".py",
   "mimetype": "text/x-python",
   "name": "python",
   "nbconvert_exporter": "python",
   "pygments_lexer": "ipython3",
   "version": "3.12.8"
  }
 },
 "nbformat": 4,
 "nbformat_minor": 5
}
